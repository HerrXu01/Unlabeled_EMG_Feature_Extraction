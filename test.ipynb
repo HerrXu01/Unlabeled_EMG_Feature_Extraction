{
 "cells": [
  {
   "cell_type": "code",
   "execution_count": 1,
   "metadata": {},
   "outputs": [
    {
     "name": "stderr",
     "output_type": "stream",
     "text": [
      "d:\\anaconda\\envs\\potnet\\lib\\site-packages\\scipy\\__init__.py:146: UserWarning: A NumPy version >=1.16.5 and <1.23.0 is required for this version of SciPy (detected version 1.26.0\n",
      "  warnings.warn(f\"A NumPy version >={np_minversion} and <{np_maxversion}\"\n"
     ]
    }
   ],
   "source": [
    "import yaml\n",
    "import matplotlib.pyplot as plt\n",
    "import numpy as np\n",
    "from data_processing.preprocess import EMGPreprocessor\n"
   ]
  },
  {
   "cell_type": "code",
   "execution_count": 2,
   "metadata": {},
   "outputs": [
    {
     "name": "stdout",
     "output_type": "stream",
     "text": [
      "Sliding windows data saved successfully at: datasets/windows/ninapro_db5\\win100_step5.npy\n",
      "The full windows data is of the shape (1270081, 100, 16).\n"
     ]
    },
    {
     "data": {
      "text/plain": [
       "array([[[  0.,  -1.,  -1., ...,   3.,   1.,   1.],\n",
       "        [ -3.,  -3.,  -3., ...,  -2.,  -2.,  -2.],\n",
       "        [ -2.,   0.,   0., ...,  -5.,  -2.,  -2.],\n",
       "        ...,\n",
       "        [  1.,  -1.,   0., ...,   0.,   1.,   0.],\n",
       "        [  0.,   1.,  -2., ...,  -2.,  -2.,  -1.],\n",
       "        [ -2.,  -1.,  -1., ...,  -2.,  -2.,  -4.]],\n",
       "\n",
       "       [[ -1.,   2.,  -2., ...,  -2.,   3.,   4.],\n",
       "        [  0.,  -2.,  -1., ...,   1.,  -3.,  -4.],\n",
       "        [ -1.,  -2.,  -2., ...,  -1.,   0.,  -1.],\n",
       "        ...,\n",
       "        [ -2.,  -1.,   0., ...,  -2.,  -2.,   1.],\n",
       "        [  0.,  -2.,   0., ...,  -3.,  -1.,  -2.],\n",
       "        [  1.,   1.,   0., ...,   0.,  -1.,   0.]],\n",
       "\n",
       "       [[ -3.,   1.,  -2., ...,  -2.,  -1.,  -2.],\n",
       "        [  0.,   0.,   0., ...,   2.,  -3.,  -2.],\n",
       "        [  2.,  -3.,  -2., ...,  -1.,  -3.,   1.],\n",
       "        ...,\n",
       "        [  0.,   2.,  -3., ...,  -4.,  -2.,  -2.],\n",
       "        [  0.,  -2.,   0., ...,   0.,   0.,   0.],\n",
       "        [ -1.,   3.,   0., ...,  -3.,  -3.,  -4.]],\n",
       "\n",
       "       ...,\n",
       "\n",
       "       [[ -2.,   0.,  -2., ...,  -1.,   1.,   1.],\n",
       "        [  7.,   8.,   0., ...,   1.,   3.,   2.],\n",
       "        [ -3.,  -6.,   1., ...,   0.,   1.,  -2.],\n",
       "        ...,\n",
       "        [  0.,  -2.,  -1., ...,   0.,   0.,  -1.],\n",
       "        [ -1.,  -1.,  -1., ...,  -2.,  -3.,   0.],\n",
       "        [ -5.,  -1.,   0., ...,  -1.,  -3.,  -1.]],\n",
       "\n",
       "       [[ -5.,   0.,   1., ...,  -1.,  -2.,  -3.],\n",
       "        [  0.,   6.,   2., ...,  -1.,  -4.,  -5.],\n",
       "        [ -3., -10.,  -6., ...,   0.,  -2.,  -3.],\n",
       "        ...,\n",
       "        [ -2.,  -3.,  -1., ...,   0.,  -1.,  -3.],\n",
       "        [ -3.,  -2.,  -1., ...,   0.,  -1.,   1.],\n",
       "        [ -1.,   1.,  -1., ...,   0.,  -1.,  -2.]],\n",
       "\n",
       "       [[  1.,   0.,  -2., ...,   0.,  -3.,  -4.],\n",
       "        [ -4.,  -5.,  -5., ...,  -1.,  -3.,  -3.],\n",
       "        [ -2.,  -2.,   1., ...,  -1.,  -2.,   0.],\n",
       "        ...,\n",
       "        [ -3.,  -1.,  -2., ...,  -2.,   1.,  -2.],\n",
       "        [  0.,  -1.,  -1., ...,   0.,  -1.,   0.],\n",
       "        [  1.,  -2.,  -2., ...,  -1.,  -1.,  -1.]]], dtype=float32)"
      ]
     },
     "execution_count": 2,
     "metadata": {},
     "output_type": "execute_result"
    }
   ],
   "source": [
    "\n",
    "config_path = 'configs/ninapro_db5/full_train_lstm_w100_s5_2l.yaml'\n",
    "with open(config_path, 'r') as file:\n",
    "    config = yaml.safe_load(file)\n",
    "    \n",
    "preprocessor = EMGPreprocessor(config)\n",
    "preprocessor.process()\n"
   ]
  },
  {
   "cell_type": "code",
   "execution_count": 1,
   "metadata": {},
   "outputs": [],
   "source": [
    "import numpy as np"
   ]
  },
  {
   "cell_type": "code",
   "execution_count": 2,
   "metadata": {},
   "outputs": [],
   "source": [
    "data = np.load(\"datasets/windows/ninapro_db5/win200_step100.npy\")"
   ]
  },
  {
   "cell_type": "code",
   "execution_count": 3,
   "metadata": {},
   "outputs": [
    {
     "name": "stdout",
     "output_type": "stream",
     "text": [
      "[[[   0.   -1.   -1. ...    3.    1.    1.]\n",
      "  [  -3.   -3.   -3. ...   -2.   -2.   -2.]\n",
      "  [  -2.    0.    0. ...   -5.   -2.   -2.]\n",
      "  ...\n",
      "  [  -2.    2.    0. ...   -3.   -4.   -3.]\n",
      "  [  -1.   -1.   -1. ...   -1.   -1.   -1.]\n",
      "  [  -1.   -5.   -5. ...   -2.   -2.   -1.]]\n",
      "\n",
      " [[   0.   -4.   -1. ...   -2.    1.   -1.]\n",
      "  [  -2.   -1.    0. ...    2.    1.    0.]\n",
      "  [  -2.   -1.    0. ...   -2.   -2.    1.]\n",
      "  ...\n",
      "  [  -2.    0.    1. ...    0.   -2.   -3.]\n",
      "  [  -2.   -3.   -1. ...   -2.   -2.   -1.]\n",
      "  [  -1.   -2.    1. ...    2.   -1.   -1.]]\n",
      "\n",
      " [[  -1.   -2.   -2. ...   -4.   -5.   -4.]\n",
      "  [   0.   -3.   -2. ...    0.    3.    2.]\n",
      "  [   1.    0.    0. ...    0.    0.    1.]\n",
      "  ...\n",
      "  [   0.   -1.    0. ...   -1.    1.    2.]\n",
      "  [  -6.    0.    0. ...   -2.   -4.   -1.]\n",
      "  [  -1.   -2.   -3. ...   -1.   -4.   -7.]]\n",
      "\n",
      " ...\n",
      "\n",
      " [[ -35.    0.   -2. ...  -13.  -97.   17.]\n",
      "  [ -18.  -21.    1. ...  -43.   24.  -22.]\n",
      "  [  24.    4.   -2. ...   83.  -22.    1.]\n",
      "  ...\n",
      "  [  11.   29.   -9. ...   -7.   14.   69.]\n",
      "  [ -48.  -76.  -17. ...   30.   -7.  -37.]\n",
      "  [  49.   23.    2. ...    4.    3.    7.]]\n",
      "\n",
      " [[   2.   -2.   -4. ...  -17.  -24.   19.]\n",
      "  [   7.   11.    0. ...  -27.   20.  -31.]\n",
      "  [ -31.  -11.    1. ...  -17.  -24.   -5.]\n",
      "  ...\n",
      "  [  55.  -14.    0. ...   -2.    1.   -9.]\n",
      "  [  88.   31.    0. ...    2.   -3.   10.]\n",
      "  [ -46.  -16.    0. ...   -1.    8.   -3.]]\n",
      "\n",
      " [[ -12.   46.  -11. ...   -6.    7.    5.]\n",
      "  [  17. -108.  -18. ...  -30.  -10.   -5.]\n",
      "  [  -9.   73.   30. ...   54.   -6.  -13.]\n",
      "  ...\n",
      "  [  -2.   -3.    0. ...   -1.    2.    1.]\n",
      "  [  -3.    0.   -2. ...   -1.    3.    0.]\n",
      "  [  -2.   -1.   -2. ...   -1.    2.   -1.]]]\n"
     ]
    }
   ],
   "source": [
    "print(data)"
   ]
  },
  {
   "cell_type": "code",
   "execution_count": 4,
   "metadata": {},
   "outputs": [],
   "source": [
    "import os"
   ]
  },
  {
   "cell_type": "code",
   "execution_count": 5,
   "metadata": {},
   "outputs": [
    {
     "data": {
      "text/plain": [
       "True"
      ]
     },
     "execution_count": 5,
     "metadata": {},
     "output_type": "execute_result"
    }
   ],
   "source": [
    "os.path.exists(\"datasets/windows/ninapro_db5\")"
   ]
  },
  {
   "cell_type": "code",
   "execution_count": 6,
   "metadata": {},
   "outputs": [
    {
     "data": {
      "text/plain": [
       "True"
      ]
     },
     "execution_count": 6,
     "metadata": {},
     "output_type": "execute_result"
    }
   ],
   "source": [
    "os.path.isfile(\"datasets/windows/ninapro_db5/win200_step100.npy\")"
   ]
  },
  {
   "cell_type": "code",
   "execution_count": 8,
   "metadata": {},
   "outputs": [
    {
     "data": {
      "text/plain": [
       "False"
      ]
     },
     "execution_count": 8,
     "metadata": {},
     "output_type": "execute_result"
    }
   ],
   "source": [
    "os.path.isfile(\"datasets/windows/ninapro_db5/win200_step10.npy\")"
   ]
  },
  {
   "cell_type": "code",
   "execution_count": 36,
   "metadata": {},
   "outputs": [],
   "source": [
    "from data_processing.load_raw_data import ninapro_loader, senic_loader\n",
    "import yaml\n",
    "import os"
   ]
  },
  {
   "cell_type": "code",
   "execution_count": 37,
   "metadata": {},
   "outputs": [],
   "source": [
    "config_path = 'configs/ninapro_db5/full_train_transformer.yaml'\n",
    "with open(config_path, 'r') as file:\n",
    "    config = yaml.safe_load(file)"
   ]
  },
  {
   "cell_type": "code",
   "execution_count": 38,
   "metadata": {},
   "outputs": [],
   "source": [
    "data_frames = senic_loader(config)"
   ]
  },
  {
   "cell_type": "code",
   "execution_count": 39,
   "metadata": {},
   "outputs": [
    {
     "data": {
      "text/plain": [
       "2310"
      ]
     },
     "execution_count": 39,
     "metadata": {},
     "output_type": "execute_result"
    }
   ],
   "source": [
    "len(data_frames)"
   ]
  },
  {
   "cell_type": "code",
   "execution_count": 40,
   "metadata": {},
   "outputs": [
    {
     "data": {
      "text/plain": [
       "1627"
      ]
     },
     "execution_count": 40,
     "metadata": {},
     "output_type": "execute_result"
    }
   ],
   "source": [
    "data_frames[0].shape[0]"
   ]
  },
  {
   "cell_type": "code",
   "execution_count": 1,
   "metadata": {},
   "outputs": [
    {
     "name": "stderr",
     "output_type": "stream",
     "text": [
      "d:\\anaconda\\envs\\potnet\\lib\\site-packages\\tqdm\\auto.py:22: TqdmWarning: IProgress not found. Please update jupyter and ipywidgets. See https://ipywidgets.readthedocs.io/en/stable/user_install.html\n",
      "  from .autonotebook import tqdm as notebook_tqdm\n",
      "d:\\anaconda\\envs\\potnet\\lib\\site-packages\\scipy\\__init__.py:146: UserWarning: A NumPy version >=1.16.5 and <1.23.0 is required for this version of SciPy (detected version 1.26.0\n",
      "  warnings.warn(f\"A NumPy version >={np_minversion} and <{np_maxversion}\"\n"
     ]
    }
   ],
   "source": [
    "from trainer.base_trainer import Trainer"
   ]
  },
  {
   "cell_type": "code",
   "execution_count": 2,
   "metadata": {},
   "outputs": [],
   "source": [
    "import yaml"
   ]
  },
  {
   "cell_type": "code",
   "execution_count": 3,
   "metadata": {},
   "outputs": [],
   "source": [
    "config_path = 'configs/senic/transformer.yaml'\n",
    "with open(config_path, 'r') as file:\n",
    "    config = yaml.safe_load(file)"
   ]
  },
  {
   "cell_type": "code",
   "execution_count": 4,
   "metadata": {},
   "outputs": [
    {
     "data": {
      "text/plain": [
       "False"
      ]
     },
     "execution_count": 4,
     "metadata": {},
     "output_type": "execute_result"
    }
   ],
   "source": [
    "config[\"train\"][\"enable_shuffle\"]"
   ]
  },
  {
   "cell_type": "code",
   "execution_count": 5,
   "metadata": {},
   "outputs": [],
   "source": [
    "from data_processing.preprocess import EMGPreprocessor"
   ]
  },
  {
   "cell_type": "code",
   "execution_count": 6,
   "metadata": {},
   "outputs": [],
   "source": [
    "processor = EMGPreprocessor(config)"
   ]
  },
  {
   "cell_type": "code",
   "execution_count": 7,
   "metadata": {},
   "outputs": [],
   "source": [
    "processor.load_data()"
   ]
  },
  {
   "cell_type": "code",
   "execution_count": 8,
   "metadata": {},
   "outputs": [],
   "source": [
    "import numpy as np"
   ]
  },
  {
   "cell_type": "code",
   "execution_count": 9,
   "metadata": {},
   "outputs": [
    {
     "data": {
      "text/plain": [
       "array([-2., -3., -1., -3., -2.,  1., -1., -1.])"
      ]
     },
     "execution_count": 9,
     "metadata": {},
     "output_type": "execute_result"
    }
   ],
   "source": [
    "processor.data_frames[0].to_numpy()[0]"
   ]
  },
  {
   "cell_type": "code",
   "execution_count": 10,
   "metadata": {},
   "outputs": [],
   "source": [
    "windows = processor.sliding_window()"
   ]
  },
  {
   "cell_type": "code",
   "execution_count": 11,
   "metadata": {},
   "outputs": [
    {
     "data": {
      "text/plain": [
       "(50, 8)"
      ]
     },
     "execution_count": 11,
     "metadata": {},
     "output_type": "execute_result"
    }
   ],
   "source": [
    "windows[0].shape"
   ]
  },
  {
   "cell_type": "code",
   "execution_count": 12,
   "metadata": {},
   "outputs": [],
   "source": [
    "test_trainer = Trainer(config)"
   ]
  },
  {
   "cell_type": "code",
   "execution_count": 13,
   "metadata": {},
   "outputs": [
    {
     "name": "stdout",
     "output_type": "stream",
     "text": [
      "The full windows data is of the shape (361610, 50, 8).\n"
     ]
    }
   ],
   "source": [
    "train_loader, val_loader = test_trainer.load_datasets()"
   ]
  },
  {
   "cell_type": "code",
   "execution_count": 14,
   "metadata": {},
   "outputs": [],
   "source": [
    "first_batch = next(iter(train_loader))"
   ]
  },
  {
   "cell_type": "code",
   "execution_count": 15,
   "metadata": {},
   "outputs": [
    {
     "name": "stdout",
     "output_type": "stream",
     "text": [
      "First Sample Input: tensor([[-2., -3., -1., -3., -2.,  1., -1., -1.],\n",
      "        [-2., -5., -2.,  0., -1.,  0.,  0.,  0.],\n",
      "        [ 4.,  8.,  2.,  0.,  2.,  0., -2., -1.],\n",
      "        [-1., -2.,  0., -1.,  0., -1., -3., -2.],\n",
      "        [-3., -2., -1., -3., -2., -5., -3.,  0.],\n",
      "        [-2., -3., -2.,  1., -3.,  0.,  0., -2.],\n",
      "        [ 1., -3.,  0.,  2.,  0.,  1.,  0.,  0.],\n",
      "        [ 0.,  0., -2., -2., -1., -1., -2.,  1.],\n",
      "        [ 0., -3.,  0., -1., -1., -2.,  0., -2.],\n",
      "        [ 0.,  0.,  1., -1.,  0.,  1.,  2., -1.],\n",
      "        [-1.,  1.,  0.,  0.,  0.,  1.,  1.,  3.],\n",
      "        [ 0., -1.,  1., -2.,  0., -2., -3., -2.],\n",
      "        [-3., -4., -2., -2., -1., -2., -3.,  0.],\n",
      "        [ 0.,  1., -1., -1., -3., -3., -1., -1.],\n",
      "        [-1., -1., -1.,  3.,  0.,  1.,  1., -1.],\n",
      "        [-1., -3., -4., -1., -2.,  0., -1.,  0.],\n",
      "        [-1., -5.,  0., -2., -1.,  0., -1., -1.],\n",
      "        [ 2.,  7.,  3.,  0.,  0.,  0.,  0., -1.],\n",
      "        [-2.,  3., -1.,  0., -1.,  1.,  1.,  1.],\n",
      "        [-2., -2.,  0.,  1., -1.,  0., -2.,  0.],\n",
      "        [-3., -2., -1., -3., -2., -3., -4., -2.],\n",
      "        [-1., -4., -1., -2.,  0.,  1.,  1.,  0.],\n",
      "        [-1., -5., -2., -1., -2., -1., -1.,  0.],\n",
      "        [-1.,  1.,  0., -1.,  0., -1., -1., -1.],\n",
      "        [-1., -1., -1., -3., -1., -1., -1., -1.],\n",
      "        [12.,  7.,  1.,  1., -1.,  0.,  0.,  0.],\n",
      "        [ 0., -1.,  1., -1., -1.,  1.,  0., -1.],\n",
      "        [ 2.,  0.,  1., -2., -2., -1., -2.,  1.],\n",
      "        [-6., -3., -1.,  0., -2.,  0., -2., -1.],\n",
      "        [-3., -4., -3.,  1.,  0.,  1.,  0., -1.],\n",
      "        [ 2.,  0.,  0.,  2., -1.,  0.,  1.,  1.],\n",
      "        [-2.,  0., -1.,  0., -1., -2., -1., -2.],\n",
      "        [-1.,  0., -1., -2., -1., -1., -2., -2.],\n",
      "        [-3., -4., -1.,  0., -1., -1.,  0.,  0.],\n",
      "        [-2., -5.,  0.,  1., -1.,  0.,  0., -2.],\n",
      "        [-1.,  3., -1., -3.,  2., -2., -2., -1.],\n",
      "        [ 0.,  2.,  0., -2., -1., -1.,  0.,  1.],\n",
      "        [ 1., -1., -1.,  1.,  2.,  1., -1.,  0.],\n",
      "        [-2., -2., -1.,  0.,  0.,  0., -1., -6.],\n",
      "        [-1., -4., -1.,  0., -2., -2., -1., -1.],\n",
      "        [-3., -1., -2., -3., -1., -2.,  1., -4.],\n",
      "        [-6., -2.,  0., -3., -2., -2., -2.,  8.],\n",
      "        [-1.,  1.,  0.,  1., -1.,  1., -1.,  3.],\n",
      "        [ 0., -1., -2., -2., -1.,  0.,  0.,  0.],\n",
      "        [ 0., -2., -1., -2., -2., -2., -3.,  0.],\n",
      "        [ 0.,  1.,  1.,  1.,  0., -3.,  3., -3.],\n",
      "        [ 3.,  2.,  0.,  2.,  2., -5.,  0., -1.],\n",
      "        [-4., -4., -3., -2., -3.,  0., -6., -4.],\n",
      "        [ 1., -1.,  0., -1.,  0.,  8.,  2., -3.]], dtype=torch.float64)\n",
      "First Sample Targets: tensor([ 0.,  0.,  0.,  2.,  1.,  6.,  0., -3.], dtype=torch.float64)\n"
     ]
    }
   ],
   "source": [
    "inputs, targets = first_batch\n",
    "print(\"First Sample Input:\", inputs[0])\n",
    "print(\"First Sample Targets:\", targets[0])"
   ]
  },
  {
   "cell_type": "code",
   "execution_count": null,
   "metadata": {},
   "outputs": [],
   "source": []
  }
 ],
 "metadata": {
  "kernelspec": {
   "display_name": "Python 3.9.18 ('potnet')",
   "language": "python",
   "name": "python3"
  },
  "language_info": {
   "codemirror_mode": {
    "name": "ipython",
    "version": 3
   },
   "file_extension": ".py",
   "mimetype": "text/x-python",
   "name": "python",
   "nbconvert_exporter": "python",
   "pygments_lexer": "ipython3",
   "version": "3.9.18"
  },
  "orig_nbformat": 4,
  "vscode": {
   "interpreter": {
    "hash": "d8c3876850c79236481b23140a76c58b380d03d2d84cfe85e0babb0d139ed46e"
   }
  }
 },
 "nbformat": 4,
 "nbformat_minor": 2
}
